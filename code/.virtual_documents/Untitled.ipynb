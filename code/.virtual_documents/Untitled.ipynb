import os
import shutil
import pandas as pd


df = pd.read_csv("/cmnfs/data/proteomics/metaproteomics/mdpi_proteomes_2019_PXD011515/RawFilesAnnotation.csv")
source_folder_path = '/cmnfs/data/proteomics/metaproteomics/mdpi_proteomes_2019_PXD011515/raw_files'
destination_folder_path = '/cmnfs/data/proteomics/metaproteomics/mdpi_proteomes_2019_PXD011515/sprotH'


df.head(15)


# Loop through each row in the dataframe
for index, row in df.iterrows():
    raw_file = row['Raw file']
    sample_id = row['Sample ID']
    
    # Construct the folder path based on the sample ID
    sample_folder_path = os.path.join(destination_folder_path, str(sample_id))
    
    # Split the file name to get just the file name without the path
    file_name = raw_file.split('/')[-1] + ".raw"
    
    source_file_path = os.path.join(source_folder_path, file_name)
    
    # Construct the full destination path by joining the sample folder path and the file name
    destination_file_path = os.path.join(sample_folder_path, file_name)
    
    # Copy the file from source to destination
    shutil.copyfile(source_file_path, destination_file_path)



