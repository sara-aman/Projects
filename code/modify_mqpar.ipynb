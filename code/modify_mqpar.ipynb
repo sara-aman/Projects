{
 "cells": [
  {
   "cell_type": "code",
   "execution_count": 2,
   "id": "df73db9f-2cb5-4c99-a2e5-6a03a7921e8a",
   "metadata": {},
   "outputs": [],
   "source": [
    "import os\n",
    "import re"
   ]
  },
  {
   "cell_type": "markdown",
   "id": "b34bc040-f8ab-4586-b726-f39168edf738",
   "metadata": {},
   "source": [
    "### against bacteria dataset"
   ]
  },
  {
   "cell_type": "code",
   "execution_count": 10,
   "id": "3b33bf7f-3873-4219-9016-9d03fe6ba82e",
   "metadata": {},
   "outputs": [],
   "source": [
    "def replace_fasta_paths(folder_path):\n",
    "    for root, dirs, files in os.walk(folder_path):\n",
    "        for filename in files:\n",
    "            filepath = os.path.join(root, filename)\n",
    "            if filepath.endswith('.xml'):\n",
    "                with open(filepath, 'r') as file:\n",
    "                    content = file.read()\n",
    "                #content = re.sub(r'<fastaFilePath>(.*?)</fastaFilePath>', r'<fastaFilePath>/cmnfs/data/proteomics/metaproteomics/PXD011515_sara_analysis/fasta/uniprot-sprot_bac.fasta</fastaFilePath>', content)\n",
    "                #content = re.sub(r'<fixedCombinedFolder>/cmnfs/data/proteomics/metaproteomics/mdpi_proteomes_2019_PXD011515/sprotB/(\\d+)</fixedCombinedFolder>', r'<fixedCombinedFolder>/cmnfs/data/proteomics/metaproteomics/PXD011515_sara_analysis/sprotB/\\1</fixedCombinedFolder>', content)\n",
    "                content = re.sub(r'<maxQuantVersion>2.4.4.0</maxQuantVersion>' , r'<maxQuantVersion>2.4.7.0</maxQuantVersion>', content)\n",
    "\n",
    "                with open(filepath, 'w') as file:\n",
    "                    file.write(content)\n",
    "\n",
    "# Replace 'folder_path' with the path to your folder containing subdirectories\n",
    "folder_path = '/cmnfs/data/proteomics/metaproteomics/PXD011515_sara_analysis/sprotB/'\n",
    "replace_fasta_paths(folder_path)"
   ]
  },
  {
   "cell_type": "markdown",
   "id": "ca0032f5-76d1-486f-9f91-aed0036edca7",
   "metadata": {},
   "source": [
    "### agaisnt human bacteria"
   ]
  },
  {
   "cell_type": "code",
   "execution_count": 7,
   "id": "be335694-652c-4871-ba51-eb6e198f4cec",
   "metadata": {},
   "outputs": [],
   "source": [
    "def replace_fasta_paths(folder_path):\n",
    "    for root, dirs, files in os.walk(folder_path):\n",
    "        for filename in files:\n",
    "            filepath = os.path.join(root, filename)\n",
    "            if filepath.endswith('.xml'):\n",
    "                with open(filepath, 'r') as file:\n",
    "                    content = file.read()\n",
    "                #content = re.sub(r'<fastaFilePath>(.*?)</fastaFilePath>', r'<fastaFilePath>/cmnfs/data/proteomics/metaproteomics/PXD011515_sara_analysis/fasta/uniprot_cano_varsplic_HUMAN.fasta</fastaFilePath>', content)\n",
    "                content = re.sub(r'<fixedCombinedFolder>/cmnfs/data/proteomics/metaproteomics/mdpi_proteomes_2019_PXD011515/PXD011515_sara_analysis/sprotH/(\\d+)</fixedCombinedFolder>', r'<fixedCombinedFolder>/cmnfs/data/proteomics/metaproteomics/PXD011515_sara_analysis/sprotH/\\1</fixedCombinedFolder>', content)\n",
    "                #content = re.sub(r'<maxQuantVersion>2.4.4.0</maxQuantVersion>' , r'<maxQuantVersion>2.4.7.0</maxQuantVersion>', content)\n",
    "\n",
    "                with open(filepath, 'w') as file:\n",
    "                    file.write(content)\n",
    "\n",
    "# Replace 'folder_path' with the path to your folder containing subdirectories\n",
    "folder_path = '/cmnfs/data/proteomics/metaproteomics/PXD011515_sara_analysis/sprotH/'\n",
    "replace_fasta_paths(folder_path)"
   ]
  },
  {
   "cell_type": "markdown",
   "id": "5550fdfc-1a77-4b4b-8f56-48f9556e389b",
   "metadata": {},
   "source": [
    "### IGC"
   ]
  },
  {
   "cell_type": "code",
   "execution_count": 8,
   "id": "9cd975c5-4fe6-4a20-a417-0f8e47ee19b1",
   "metadata": {},
   "outputs": [],
   "source": [
    "# Define the pattern to match\n",
    "pattern = r'<string>/media/storage/scratch/(\\d+_[A-Z]+\\d+_P\\d+_B\\d+_A\\d+_R\\d+.raw)</string>'\n",
    "\n",
    "# Read the content of the XML file\n",
    "with open('/cmnfs/data/proteomics/metaproteomics/PXD011515_sara_analysis/IGC/IGC_new/mqpar.xml', 'r') as file:\n",
    "    content = file.read()\n",
    "\n",
    "# Find all occurrences of the pattern\n",
    "matches = re.findall(pattern, content)\n",
    "\n",
    "# Replace the matched strings with the modified paths\n",
    "for match in matches:\n",
    "    original_path = f'<string>/media/storage/scratch/{match}</string>'\n",
    "    modified_path = f'<string>/cmnfs/data/proteomics/metaproteomics/mdpi_proteomes_2019_PXD011515/raw_files/{match}</string>'\n",
    "    content = content.replace(original_path, modified_path)\n",
    "\n",
    "# Write the modified content back to the file\n",
    "with open('/cmnfs/data/proteomics/metaproteomics/PXD011515_sara_analysis/IGC/IGC_new/modified_file.xml', 'w') as file:\n",
    "    file.write(content)\n"
   ]
  }
 ],
 "metadata": {
  "kernelspec": {
   "display_name": "oktoberfest",
   "language": "python",
   "name": "oktoberfest"
  },
  "language_info": {
   "codemirror_mode": {
    "name": "ipython",
    "version": 3
   },
   "file_extension": ".py",
   "mimetype": "text/x-python",
   "name": "python",
   "nbconvert_exporter": "python",
   "pygments_lexer": "ipython3",
   "version": "3.10.13"
  }
 },
 "nbformat": 4,
 "nbformat_minor": 5
}
